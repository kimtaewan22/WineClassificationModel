{
  "nbformat": 4,
  "nbformat_minor": 0,
  "metadata": {
    "colab": {
      "provenance": [],
      "authorship_tag": "ABX9TyNPI2ZpfyOSbUfZWV2CFPkz",
      "include_colab_link": true
    },
    "kernelspec": {
      "name": "python3",
      "display_name": "Python 3"
    },
    "language_info": {
      "name": "python"
    }
  },
  "cells": [
    {
      "cell_type": "markdown",
      "metadata": {
        "id": "view-in-github",
        "colab_type": "text"
      },
      "source": [
        "<a href=\"https://colab.research.google.com/github/kimtaewan22/colabtest/blob/main/%EC%9D%91%EC%9A%A9%EC%88%98%ED%95%99_2023%EB%85%84_1%ED%95%99%EA%B8%B0_2021040031_%EA%B9%80%ED%83%9C%EC%99%84.ipynb\" target=\"_parent\"><img src=\"https://colab.research.google.com/assets/colab-badge.svg\" alt=\"Open In Colab\"/></a>"
      ]
    },
    {
      "cell_type": "markdown",
      "source": [
        "# train파일 로드 및 수정"
      ],
      "metadata": {
        "id": "71HTeEvMUTlR"
      }
    },
    {
      "cell_type": "code",
      "execution_count": null,
      "metadata": {
        "id": "ucocfpgBCJc4",
        "colab": {
          "base_uri": "https://localhost:8080/"
        },
        "outputId": "757fc753-8a5d-4d95-b687-87c0c959ab96"
      },
      "outputs": [
        {
          "output_type": "stream",
          "name": "stdout",
          "text": [
            "       fixed acidity  volatile acidity  citric acid  residual sugar  \\\n",
            "count    5497.000000       5497.000000  5497.000000     5497.000000   \n",
            "mean        7.210115          0.338163     0.318543        5.438075   \n",
            "std         1.287579          0.163224     0.145104        4.756676   \n",
            "min         3.800000          0.080000     0.000000        0.600000   \n",
            "25%         6.400000          0.230000     0.250000        1.800000   \n",
            "50%         7.000000          0.290000     0.310000        3.000000   \n",
            "75%         7.700000          0.400000     0.390000        8.100000   \n",
            "max        15.900000          1.580000     1.660000       65.800000   \n",
            "\n",
            "         chlorides  free sulfur dioxide  total sulfur dioxide      density  \\\n",
            "count  5497.000000          5497.000000           5497.000000  5497.000000   \n",
            "mean      0.055808            30.417682            115.566491     0.994673   \n",
            "std       0.034653            17.673881             56.288223     0.003014   \n",
            "min       0.009000             1.000000              6.000000     0.987110   \n",
            "25%       0.038000            17.000000             78.000000     0.992300   \n",
            "50%       0.047000            29.000000            118.000000     0.994800   \n",
            "75%       0.064000            41.000000            155.000000     0.996930   \n",
            "max       0.610000           289.000000            440.000000     1.038980   \n",
            "\n",
            "                pH    sulphates      alcohol  \n",
            "count  5497.000000  5497.000000  5497.000000  \n",
            "mean      3.219502     0.530524    10.504918  \n",
            "std       0.160713     0.149396     1.194524  \n",
            "min       2.740000     0.220000     8.000000  \n",
            "25%       3.110000     0.430000     9.500000  \n",
            "50%       3.210000     0.510000    10.300000  \n",
            "75%       3.320000     0.600000    11.300000  \n",
            "max       4.010000     2.000000    14.900000  \n"
          ]
        }
      ],
      "source": [
        "import pandas as pd\n",
        "from sklearn.model_selection import train_test_split\n",
        "from sklearn.linear_model import LogisticRegression\n",
        "from sklearn.metrics import classification_report\n",
        "from sklearn.preprocessing import LabelEncoder\n",
        "\n",
        "# 데이터 준비\n",
        "wine_data = pd.read_csv('train.csv')\n",
        "# 사용하지 않는 feature는 드랍\n",
        "wine_data.drop(['index','quality'],axis=1, inplace=True)\n",
        "\n",
        "print(wine_data.describe())"
      ]
    },
    {
      "cell_type": "markdown",
      "source": [
        "#라벨 인코딩 및 이상치 개수 확인\n"
      ],
      "metadata": {
        "id": "tAtzNH4QUnVm"
      }
    },
    {
      "cell_type": "code",
      "source": [
        "from sklearn.preprocessing import LabelEncoder\n",
        "\n",
        "# type을 수치형 데이터로 변환하기 위한 라벨 인코딩 진행\n",
        "label_encoder = LabelEncoder()\n",
        "wine_data['type_encoded'] = label_encoder.fit_transform(wine_data['type'])\n",
        "\n",
        "# 이상치 개수 확인 함수 정의\n",
        "def count_outliers(feature, subset):\n",
        "    Q1 = subset[feature].quantile(0.25)\n",
        "    Q3 = subset[feature].quantile(0.75)\n",
        "    IQR = Q3 - Q1\n",
        "    lower_bound = Q1 - (1.5 * IQR)\n",
        "    upper_bound = Q3 + (1.5 * IQR)\n",
        "    outliers = subset[(subset[feature] < lower_bound) | (subset[feature] > upper_bound)]\n",
        "    return outliers.shape[0]\n",
        "\n",
        "# 각 특성별로 이상치 개수 출력\n",
        "features = ['fixed acidity', 'volatile acidity', 'citric acid', 'residual sugar',\n",
        "            'chlorides', 'free sulfur dioxide', 'total sulfur dioxide', 'density',\n",
        "            'pH', 'sulphates', 'alcohol']\n",
        "\n",
        "# 화이트 와인 데이터의 이상치 개수 확인\n",
        "white_wine_outliers = wine_data[wine_data['type_encoded'] == 1]\n",
        "for feature in features:\n",
        "    outlier_count = count_outliers(feature, white_wine_outliers)\n",
        "    print(f\"화이트 와인 이상치 개수 ({feature}): {outlier_count}\")\n",
        "\n",
        "# 레드 와인 데이터의 이상치 개수 확인\n",
        "red_wine_outliers = wine_data[wine_data['type_encoded'] == 0]\n",
        "for feature in features:\n",
        "    outlier_count = count_outliers(feature, red_wine_outliers)\n",
        "    print(f\"레드 와인 이상치 개수 ({feature}): {outlier_count}\")\n"
      ],
      "metadata": {
        "id": "trhpt4p4UB8G",
        "colab": {
          "base_uri": "https://localhost:8080/"
        },
        "outputId": "bde6eef4-15cb-4826-c2ab-1c9d8352206e"
      },
      "execution_count": null,
      "outputs": [
        {
          "output_type": "stream",
          "name": "stdout",
          "text": [
            "화이트 와인 이상치 개수 (fixed acidity): 99\n",
            "화이트 와인 이상치 개수 (volatile acidity): 154\n",
            "화이트 와인 이상치 개수 (citric acid): 231\n",
            "화이트 와인 이상치 개수 (residual sugar): 8\n",
            "화이트 와인 이상치 개수 (chlorides): 172\n",
            "화이트 와인 이상치 개수 (free sulfur dioxide): 38\n",
            "화이트 와인 이상치 개수 (total sulfur dioxide): 16\n",
            "화이트 와인 이상치 개수 (density): 5\n",
            "화이트 와인 이상치 개수 (pH): 64\n",
            "화이트 와인 이상치 개수 (sulphates): 99\n",
            "화이트 와인 이상치 개수 (alcohol): 0\n",
            "레드 와인 이상치 개수 (fixed acidity): 39\n",
            "레드 와인 이상치 개수 (volatile acidity): 17\n",
            "레드 와인 이상치 개수 (citric acid): 1\n",
            "레드 와인 이상치 개수 (residual sugar): 125\n",
            "레드 와인 이상치 개수 (chlorides): 96\n",
            "레드 와인 이상치 개수 (free sulfur dioxide): 25\n",
            "레드 와인 이상치 개수 (total sulfur dioxide): 43\n",
            "레드 와인 이상치 개수 (density): 37\n",
            "레드 와인 이상치 개수 (pH): 26\n",
            "레드 와인 이상치 개수 (sulphates): 58\n",
            "레드 와인 이상치 개수 (alcohol): 9\n"
          ]
        }
      ]
    },
    {
      "cell_type": "markdown",
      "source": [
        "# MLP-pytorch\n",
        "\n",
        "\n",
        "\n"
      ],
      "metadata": {
        "id": "HdOEk79tWdpc"
      }
    },
    {
      "cell_type": "markdown",
      "source": [
        "#데이터 로드 및 분할"
      ],
      "metadata": {
        "id": "R-1Nxh4GkyaJ"
      }
    },
    {
      "cell_type": "code",
      "source": [
        "import pandas as pd\n",
        "from sklearn.model_selection import train_test_split\n",
        "from sklearn.preprocessing import RobustScaler\n",
        "from sklearn.metrics import classification_report\n",
        "import torch\n",
        "import torch.nn as nn\n",
        "from torch.utils.data import DataLoader, TensorDataset\n",
        "\n",
        "# 시드 값을 주어 모델의 초기화나 데이터 배치의 순서 등이 동일하게 유지되어 실험 결과의 재현성을 확보.\n",
        "torch.manual_seed(42)\n",
        "\n",
        "# 데이터 로드\n",
        "train_data = pd.read_csv('train.csv')\n",
        "test_data = pd.read_csv('test.csv')\n",
        "\n",
        "# 학습 데이터에서 선택한 특성과 분류 대상을 이용 데이터분할\n",
        "X = train_data[['fixed acidity', 'volatile acidity',\n",
        "                    'chlorides', 'free sulfur dioxide', 'total sulfur dioxide',\n",
        "                    'sulphates']]\n",
        "X.loc[:, 'new_feature'] = X['free sulfur dioxide'] / X['total sulfur dioxide']\n",
        "y = train_data['type']\n",
        "\n",
        "# 데이터 전처리\n",
        "scaler = RobustScaler()\n",
        "X_scaled = scaler.fit_transform(X)\n",
        "\n",
        "# 데이터를 학습 데이터와 검증 데이터로 8:2 비율로 분할. stratify 옵션을 주어 클래스 비율을 유지하면서 데이터를 분할하도록 함\n",
        "X_train, X_val, y_train, y_val = train_test_split(X_scaled, y, test_size=0.2, random_state=42, stratify=y)\n",
        "\n",
        "# 테스트 데이터에서 선택한 특성과 분류 대상을 이용 데이터분할\n",
        "X_test = test_data[['fixed acidity', 'volatile acidity',\n",
        "                    'chlorides', 'free sulfur dioxide', 'total sulfur dioxide',\n",
        "                    'sulphates']]\n",
        "X_test.loc[:, 'new_feature'] = X_test['free sulfur dioxide'] / X_test['total sulfur dioxide']\n",
        "y_test = test_data['type']"
      ],
      "metadata": {
        "colab": {
          "base_uri": "https://localhost:8080/"
        },
        "id": "QfC-1KHviHeg",
        "outputId": "13cbc0ad-1365-4bf1-8f59-d0f1d36a88cb"
      },
      "execution_count": null,
      "outputs": [
        {
          "output_type": "stream",
          "name": "stderr",
          "text": [
            "<ipython-input-58-ec79d3aa77a2>:20: SettingWithCopyWarning: \n",
            "A value is trying to be set on a copy of a slice from a DataFrame.\n",
            "Try using .loc[row_indexer,col_indexer] = value instead\n",
            "\n",
            "See the caveats in the documentation: https://pandas.pydata.org/pandas-docs/stable/user_guide/indexing.html#returning-a-view-versus-a-copy\n",
            "  X.loc[:, 'new_feature'] = X['free sulfur dioxide'] / X['total sulfur dioxide']\n",
            "<ipython-input-58-ec79d3aa77a2>:34: SettingWithCopyWarning: \n",
            "A value is trying to be set on a copy of a slice from a DataFrame.\n",
            "Try using .loc[row_indexer,col_indexer] = value instead\n",
            "\n",
            "See the caveats in the documentation: https://pandas.pydata.org/pandas-docs/stable/user_guide/indexing.html#returning-a-view-versus-a-copy\n",
            "  X_test.loc[:, 'new_feature'] = X_test['free sulfur dioxide'] / X_test['total sulfur dioxide']\n"
          ]
        }
      ]
    },
    {
      "cell_type": "markdown",
      "source": [
        "#데이터 전처리"
      ],
      "metadata": {
        "id": "O0QN4BFjk4n1"
      }
    },
    {
      "cell_type": "code",
      "source": [
        "# 데이터 전처리\n",
        "X_test_scaled = scaler.transform(X_test)\n",
        "\n",
        "# 라벨 매핑 white와 red를 각각 0 과 1의 수치화 데이터로 매핑\n",
        "label_mapping = {'white': 0, 'red': 1}\n",
        "y_train_mapped = y_train.map(label_mapping)\n",
        "y_val_mapped = y_val.map(label_mapping)\n",
        "y_test_mapped = y_test.map(label_mapping)\n",
        "\n",
        "# 입력 데이터를 텐서로 변환\n",
        "X_train_tensor = torch.tensor(X_train, dtype=torch.float32)\n",
        "X_val_tensor = torch.tensor(X_val, dtype=torch.float32)\n",
        "X_test_tensor = torch.tensor(X_test_scaled, dtype=torch.float32)\n",
        "\n",
        "# 타겟 데이터를 텐서로 변환\n",
        "y_train_tensor = torch.tensor(y_train_mapped.values, dtype=torch.long)\n",
        "y_val_tensor = torch.tensor(y_val_mapped.values, dtype=torch.long)\n",
        "y_test_tensor = torch.tensor(y_test_mapped.values, dtype=torch.long)\n"
      ],
      "metadata": {
        "id": "71jjoDEqkxxz"
      },
      "execution_count": null,
      "outputs": []
    },
    {
      "cell_type": "markdown",
      "source": [
        "#WeightedRandomSampler"
      ],
      "metadata": {
        "id": "KG-Ie4cllEb6"
      }
    },
    {
      "cell_type": "code",
      "source": [
        "# 클래스별 가중치를 적용하기 위한 WeightedRandomSampler 생성\n",
        "class_counts = torch.bincount(y_train_tensor) # 각 클래의 개수를 셈\n",
        "class_weights = 1.0 / class_counts\n",
        "\n",
        "weights = class_weights[y_train_tensor] # 각 샘플에 대한 가중치를 가져옴\n",
        "sampler = torch.utils.data.WeightedRandomSampler(weights, len(weights))\n",
        "\n",
        "# 데이터 로더 생성\n",
        "train_dataset = TensorDataset(X_train_tensor, y_train_tensor) #  입력 데이터(X_train_tensor)와 타겟 데이터(y_train_tensor)를 묶어서 TensorDataset으로 생성\n",
        "train_loader = DataLoader(train_dataset, batch_size=32, sampler=sampler)"
      ],
      "metadata": {
        "id": "r_xoPoq3k-qR"
      },
      "execution_count": null,
      "outputs": []
    },
    {
      "cell_type": "markdown",
      "source": [
        "# Model"
      ],
      "metadata": {
        "id": "CrS4GL3NlK0g"
      }
    },
    {
      "cell_type": "code",
      "source": [
        "# 신경망 모델 정의\n",
        "class WineClassifier(nn.Module):\n",
        "    def __init__(self, input_size, hidden_size, num_classes):\n",
        "        super(WineClassifier, self).__init__()\n",
        "        self.fc1 = nn.Linear(input_size, hidden_size)\n",
        "        self.relu = nn.ReLU()\n",
        "        self.fc2 = nn.Linear(hidden_size, num_classes)\n",
        "# forward 함수\n",
        "    def forward(self, x):\n",
        "        out = self.fc1(x)\n",
        "        out = self.relu(out)\n",
        "        out = self.fc2(out)\n",
        "        return out"
      ],
      "metadata": {
        "id": "HEFTTeLnlHph"
      },
      "execution_count": null,
      "outputs": []
    },
    {
      "cell_type": "code",
      "source": [
        "# 모델 초기화\n",
        "input_size = X_train.shape[1]\n",
        "hidden_size = 64\n",
        "num_classes = 2\n",
        "model = WineClassifier(input_size, hidden_size, num_classes)\n",
        "\n",
        "# 손실 함수와 옵티마이저 정의\n",
        "criterion = nn.CrossEntropyLoss()\n",
        "optimizer = torch.optim.Adam(model.parameters(), lr=0.001)"
      ],
      "metadata": {
        "id": "15imzoNDlPix"
      },
      "execution_count": null,
      "outputs": []
    },
    {
      "cell_type": "markdown",
      "source": [
        "# Train function"
      ],
      "metadata": {
        "id": "f1HKWdY-lYvz"
      }
    },
    {
      "cell_type": "code",
      "source": [
        "# 학습 함수 정의\n",
        "def train(model, train_loader, criterion, optimizer, num_epochs):\n",
        "    model.train()\n",
        "    for epoch in range(num_epochs):\n",
        "        running_loss = 0.0\n",
        "        for inputs, labels in train_loader:\n",
        "            optimizer.zero_grad() # 기울기 값 누적 방지를 위해 매 반복마다 이전 기울기 0으로 초기화\n",
        "            outputs = model(inputs) # 입력데이터를 모델에 전달하여 예측값을 얻음.\n",
        "            loss = criterion(outputs, labels) # 손실 함수를 통해 loss 계산\n",
        "            loss.backward() # 역전파 수행\n",
        "            optimizer.step() # 최적화 수행 후 파라미터 업데이트\n",
        "            running_loss += loss.item()\n",
        "        if (epoch+1) % 100 == 0:\n",
        "            print(f\"Epoch {epoch+1}/{num_epochs}, Loss: {running_loss:.4f}\")"
      ],
      "metadata": {
        "id": "RS-k2J7KlV_N"
      },
      "execution_count": null,
      "outputs": []
    },
    {
      "cell_type": "markdown",
      "source": [
        "# 모델 학습 부분"
      ],
      "metadata": {
        "id": "YCQbjKlMFa1O"
      }
    },
    {
      "cell_type": "code",
      "source": [
        "# 모델 학습\n",
        "# num_epochs = 1000\n",
        "# train(model, train_loader, criterion, optimizer, num_epochs)\n"
      ],
      "metadata": {
        "colab": {
          "base_uri": "https://localhost:8080/"
        },
        "id": "PDs0xnEDljCH",
        "outputId": "d856d411-d2f1-4001-c450-41cd59da9cd8"
      },
      "execution_count": null,
      "outputs": [
        {
          "output_type": "stream",
          "name": "stdout",
          "text": [
            "Epoch 100/1000, Loss: 1.5380\n",
            "Epoch 200/1000, Loss: 0.7957\n",
            "Epoch 300/1000, Loss: 0.3601\n",
            "Epoch 400/1000, Loss: 0.1227\n",
            "Epoch 500/1000, Loss: 0.2423\n",
            "Epoch 600/1000, Loss: 0.1294\n",
            "Epoch 700/1000, Loss: 0.1541\n",
            "Epoch 800/1000, Loss: 0.1544\n",
            "Epoch 900/1000, Loss: 0.0092\n",
            "Epoch 1000/1000, Loss: 0.0256\n"
          ]
        }
      ]
    },
    {
      "cell_type": "markdown",
      "source": [
        "# 모델 저장 부분"
      ],
      "metadata": {
        "id": "8JtxJFT-FhUp"
      }
    },
    {
      "cell_type": "code",
      "source": [
        "# 모델 저장\n",
        "# torch.save(model.state_dict(), '2021040031_김태완.model')"
      ],
      "metadata": {
        "id": "q9sInfq2FSDA"
      },
      "execution_count": null,
      "outputs": []
    },
    {
      "cell_type": "markdown",
      "source": [
        "# 저장된 모델을 로드하는 부분"
      ],
      "metadata": {
        "id": "7RRKayRJF2XN"
      }
    },
    {
      "cell_type": "code",
      "source": [
        "# 모델 객체 생성 후 저장된 모델의 상태를 불러와 초기화\n",
        "model_d = WineClassifier(input_size, hidden_size, num_classes)\n",
        "model_d.load_state_dict(torch.load('2021040031_김태완.model'))"
      ],
      "metadata": {
        "colab": {
          "base_uri": "https://localhost:8080/"
        },
        "id": "OgY0X4VCF1_W",
        "outputId": "1d239795-9dfd-4b78-a849-ae4f5ac498b1"
      },
      "execution_count": null,
      "outputs": [
        {
          "output_type": "execute_result",
          "data": {
            "text/plain": [
              "<All keys matched successfully>"
            ]
          },
          "metadata": {},
          "execution_count": 64
        }
      ]
    },
    {
      "cell_type": "markdown",
      "source": [
        "# 검증 데이터 평가"
      ],
      "metadata": {
        "id": "oGN8yLc2llzE"
      }
    },
    {
      "cell_type": "code",
      "source": [
        "# 검증 데이터로 모델 평가\n",
        "model_d.eval()\n",
        "with torch.no_grad():\n",
        "    outputs = model_d(X_val_tensor)\n",
        "    _, predicted = torch.max(outputs.data, 1)\n",
        "    accuracy = torch.sum(predicted == y_val_tensor).item() / len(y_val_tensor)\n",
        "    print(f\"Validation Accuracy: {accuracy:.4f}\")\n",
        "\n",
        "    # 분류 보고서 출력\n",
        "    target_names = ['white', 'red']\n",
        "    report = classification_report(y_val_tensor, predicted, digits=3, target_names=target_names)\n",
        "    print(report)"
      ],
      "metadata": {
        "colab": {
          "base_uri": "https://localhost:8080/"
        },
        "id": "hX5b_AOSljo0",
        "outputId": "5a0ed3c2-d34f-486f-f47b-f8767a9cf2dd"
      },
      "execution_count": null,
      "outputs": [
        {
          "output_type": "stream",
          "name": "stdout",
          "text": [
            "Validation Accuracy: 0.9909\n",
            "              precision    recall  f1-score   support\n",
            "\n",
            "       white      0.995     0.993     0.994       832\n",
            "         red      0.978     0.985     0.981       268\n",
            "\n",
            "    accuracy                          0.991      1100\n",
            "   macro avg      0.986     0.989     0.988      1100\n",
            "weighted avg      0.991     0.991     0.991      1100\n",
            "\n"
          ]
        }
      ]
    },
    {
      "cell_type": "markdown",
      "source": [
        "# 테스트 데이터 평가"
      ],
      "metadata": {
        "id": "dTy3FuaMlp4Z"
      }
    },
    {
      "cell_type": "code",
      "source": [
        "# 테스트 데이터로 모델 평가\n",
        "model_d.eval()\n",
        "with torch.no_grad():\n",
        "    outputs = model_d(X_test_tensor)\n",
        "    _, predicted = torch.max(outputs.data, 1)\n",
        "    accuracy = torch.sum(predicted == y_test_tensor).item() / len(y_test_tensor)\n",
        "    print(f\"Test Accuracy: {accuracy:.4f}\")\n",
        "\n",
        "    # 분류 보고서 출력\n",
        "    target_names = ['white', 'red']\n",
        "    report = classification_report(y_test_tensor, predicted, digits=3, target_names=target_names)\n",
        "    print(report)\n"
      ],
      "metadata": {
        "colab": {
          "base_uri": "https://localhost:8080/"
        },
        "id": "nXv7E-JjloRV",
        "outputId": "18d40922-d1d0-4fcc-9caf-392cc342450c"
      },
      "execution_count": null,
      "outputs": [
        {
          "output_type": "stream",
          "name": "stdout",
          "text": [
            "Test Accuracy: 0.9950\n",
            "              precision    recall  f1-score   support\n",
            "\n",
            "       white      0.993     1.000     0.997       739\n",
            "         red      1.000     0.981     0.990       261\n",
            "\n",
            "    accuracy                          0.995      1000\n",
            "   macro avg      0.997     0.990     0.993      1000\n",
            "weighted avg      0.995     0.995     0.995      1000\n",
            "\n"
          ]
        }
      ]
    },
    {
      "cell_type": "markdown",
      "source": [
        "# 새로운 Feature를 추가하기 전 모델\n",
        "\n",
        "*   위의 코드에서 추가 feature만 제외하고 다 동일한 코드\n",
        "\n"
      ],
      "metadata": {
        "id": "P79K9KyXTR_2"
      }
    },
    {
      "cell_type": "markdown",
      "source": [
        "\n",
        "\n",
        "1.   데이터 로딩 및 분할\n",
        "\n",
        "\n"
      ],
      "metadata": {
        "id": "3meDNYHErCGb"
      }
    },
    {
      "cell_type": "code",
      "source": [
        "import pandas as pd\n",
        "from sklearn.model_selection import train_test_split\n",
        "from sklearn.preprocessing import RobustScaler\n",
        "from sklearn.metrics import classification_report\n",
        "import torch\n",
        "import torch.nn as nn\n",
        "from torch.utils.data import DataLoader, TensorDataset\n",
        "\n",
        "torch.manual_seed(2022)\n",
        "\n",
        "# 데이터 로드\n",
        "train_data = pd.read_csv('train.csv')\n",
        "test_data = pd.read_csv('test.csv')\n",
        "\n",
        "# 학습 데이터에서 선택한 특성과 분류 대상을 이용 데이터분할\n",
        "X = train_data[['fixed acidity', 'volatile acidity',\n",
        "                    'chlorides', 'free sulfur dioxide', 'total sulfur dioxide',\n",
        "                    'sulphates']]\n",
        "y = train_data['type']\n",
        "\n",
        "# 데이터 전처리\n",
        "scaler = RobustScaler()\n",
        "X_scaled = scaler.fit_transform(X)\n",
        "\n",
        "# 데이터를 학습 데이터와 검증 데이터로 8:2 비율로 분할.\n",
        "X_train, X_val, y_train, y_val = train_test_split(X_scaled, y, test_size=0.2, random_state=42, stratify=y)\n",
        "\n",
        "# 테스트 데이터에서 선택한 특성과 분류 대상을 이용 데이터분할\n",
        "X_test = test_data[['fixed acidity', 'volatile acidity',\n",
        "                    'chlorides', 'free sulfur dioxide', 'total sulfur dioxide',\n",
        "                    'sulphates']]\n",
        "y_test = test_data['type']\n",
        "\n"
      ],
      "metadata": {
        "id": "6AzfzXFlRWwC"
      },
      "execution_count": null,
      "outputs": []
    },
    {
      "cell_type": "markdown",
      "source": [
        "\n",
        "\n",
        "2.  데이터 전처리\n",
        "\n"
      ],
      "metadata": {
        "id": "E41y7TqdrGcN"
      }
    },
    {
      "cell_type": "code",
      "source": [
        "\n",
        "# 데이터 전처리\n",
        "X_test_scaled = scaler.transform(X_test)\n",
        "\n",
        "# 라벨 매핑\n",
        "label_mapping = {'white': 0, 'red': 1}\n",
        "y_train_mapped = y_train.map(label_mapping)\n",
        "y_val_mapped = y_val.map(label_mapping)\n",
        "y_test_mapped = y_test.map(label_mapping)\n",
        "\n",
        "# 입력 데이터를 텐서로 변환\n",
        "X_train_tensor = torch.tensor(X_train, dtype=torch.float32)\n",
        "X_val_tensor = torch.tensor(X_val, dtype=torch.float32)\n",
        "X_test_tensor = torch.tensor(X_test_scaled, dtype=torch.float32)\n",
        "\n",
        "# 타겟 데이터를 텐서로 변환\n",
        "y_train_tensor = torch.tensor(y_train_mapped.values, dtype=torch.long)\n",
        "y_val_tensor = torch.tensor(y_val_mapped.values, dtype=torch.long)\n",
        "y_test_tensor = torch.tensor(y_test_mapped.values, dtype=torch.long)"
      ],
      "metadata": {
        "id": "cH6zHYU3q3VE"
      },
      "execution_count": null,
      "outputs": []
    },
    {
      "cell_type": "markdown",
      "source": [
        "3. 신경망 모델 및 학습 함수"
      ],
      "metadata": {
        "id": "Tvt_8iiJrL8q"
      }
    },
    {
      "cell_type": "code",
      "source": [
        "# 클래스별 가중치를 적용하기 위한 WeightedRandomSampler 생성\n",
        "class_counts = torch.bincount(y_train_tensor)\n",
        "class_weights = 1.0 / class_counts\n",
        "\n",
        "weights = class_weights[y_train_tensor]\n",
        "sampler = torch.utils.data.WeightedRandomSampler(weights, len(weights))\n",
        "\n",
        "# 데이터 로더 생성\n",
        "train_dataset = TensorDataset(X_train_tensor, y_train_tensor)\n",
        "train_loader = DataLoader(train_dataset, batch_size=32, sampler=sampler)\n",
        "\n",
        "# 신경망 모델 정의\n",
        "class WineClassifier(nn.Module):\n",
        "    def __init__(self, input_size, hidden_size, num_classes):\n",
        "        super(WineClassifier, self).__init__()\n",
        "        self.fc1 = nn.Linear(input_size, hidden_size)\n",
        "        self.relu = nn.ReLU()\n",
        "        self.fc2 = nn.Linear(hidden_size, num_classes)\n",
        "\n",
        "    def forward(self, x):\n",
        "        out = self.fc1(x)\n",
        "        out = self.relu(out)\n",
        "        out = self.fc2(out)\n",
        "        return out\n",
        "\n",
        "# 모델 초기화\n",
        "input_size = X_train.shape[1]\n",
        "hidden_size = 64\n",
        "num_classes = 2\n",
        "model = WineClassifier(input_size, hidden_size, num_classes)\n",
        "\n",
        "# 손실 함수와 옵티마이저 정의\n",
        "criterion = nn.CrossEntropyLoss()\n",
        "optimizer = torch.optim.Adam(model.parameters(), lr=0.001)\n",
        "\n",
        "# 학습 함수 정의\n",
        "def train(model, train_loader, criterion, optimizer, num_epochs):\n",
        "    model.train()\n",
        "    for epoch in range(num_epochs):\n",
        "        running_loss = 0.0\n",
        "        for inputs, labels in train_loader:\n",
        "            optimizer.zero_grad() # 기울기 값 누적 방지를 위해 매 반복마다 이전 기울기 0으로 초기화\n",
        "            outputs = model(inputs) # 입력데이터를 모델에 전달하여 예측값을 얻음.\n",
        "            loss = criterion(outputs, labels) # 손실 함수를 통해 loss 계산\n",
        "            loss.backward() # 역전파 수행\n",
        "            optimizer.step() # 최적화 수행 후 파라미터 업데이트\n",
        "            running_loss += loss.item()\n",
        "        if (epoch+1) % 100 == 0:\n",
        "            print(f\"Epoch {epoch+1}/{num_epochs}, Loss: {running_loss:.4f}\")\n"
      ],
      "metadata": {
        "id": "E7gPpj1FTGcG"
      },
      "execution_count": null,
      "outputs": []
    },
    {
      "cell_type": "markdown",
      "source": [
        "4. 모델 학습"
      ],
      "metadata": {
        "id": "fdWgq7B9rQ3J"
      }
    },
    {
      "cell_type": "code",
      "source": [
        "# 모델 학습\n",
        "# num_epochs = 1000\n",
        "# train(model, train_loader, criterion, optimizer, num_epochs)"
      ],
      "metadata": {
        "id": "CAVnxI46TLSS"
      },
      "execution_count": null,
      "outputs": []
    },
    {
      "cell_type": "markdown",
      "source": [
        "5. 모델 저장"
      ],
      "metadata": {
        "id": "7gmQ_dG_rS5t"
      }
    },
    {
      "cell_type": "code",
      "source": [
        "# 모델 저장\n",
        "# torch.save(model.state_dict(), '2021040031_김태완1.model')"
      ],
      "metadata": {
        "id": "_upgNTIVTmsV"
      },
      "execution_count": null,
      "outputs": []
    },
    {
      "cell_type": "markdown",
      "source": [
        "6. 모델 객체 생성"
      ],
      "metadata": {
        "id": "f6LAN6ywrUhJ"
      }
    },
    {
      "cell_type": "code",
      "source": [
        "# 모델 객체 생성 후 저장된 모델의 상태를 불러와 초기화\n",
        "model_w = WineClassifier(input_size, hidden_size, num_classes)\n",
        "model_w.load_state_dict(torch.load('2021040031_김태완1.model'))"
      ],
      "metadata": {
        "colab": {
          "base_uri": "https://localhost:8080/"
        },
        "id": "7FsUQplwTqDf",
        "outputId": "a31b97f6-3be8-4d85-ba07-12bfacfadbbc"
      },
      "execution_count": null,
      "outputs": [
        {
          "output_type": "execute_result",
          "data": {
            "text/plain": [
              "<All keys matched successfully>"
            ]
          },
          "metadata": {},
          "execution_count": 70
        }
      ]
    },
    {
      "cell_type": "markdown",
      "source": [
        "7. 모델평가"
      ],
      "metadata": {
        "id": "yoCDtoDUrWse"
      }
    },
    {
      "cell_type": "code",
      "source": [
        "model_w.eval()\n",
        "with torch.no_grad():\n",
        "    outputs = model_w(X_val_tensor)\n",
        "    _, predicted = torch.max(outputs.data, 1)\n",
        "    accuracy = torch.sum(predicted == y_val_tensor).item() / len(y_val_tensor)\n",
        "    print(f\"Validation Accuracy: {accuracy:.4f}\")\n",
        "\n",
        "# 테스트 데이터로 모델 평가\n",
        "model_w.eval()\n",
        "with torch.no_grad():\n",
        "    outputs = model_w(X_test_tensor)\n",
        "    _, predicted = torch.max(outputs.data, 1)\n",
        "    accuracy = torch.sum(predicted == y_test_tensor).item() / len(y_test_tensor)\n",
        "    print(f\"Test Accuracy: {accuracy:.4f}\")\n",
        "\n",
        "    # 분류 보고서 출력\n",
        "    target_names = ['white', 'red']\n",
        "    report = classification_report(y_test_tensor, predicted, digits=3, target_names=target_names)\n",
        "    print(report)"
      ],
      "metadata": {
        "colab": {
          "base_uri": "https://localhost:8080/"
        },
        "id": "TsA27ToHTnN1",
        "outputId": "98bc26c2-b755-4e92-b5d1-b72897b94a2a"
      },
      "execution_count": null,
      "outputs": [
        {
          "output_type": "stream",
          "name": "stdout",
          "text": [
            "Validation Accuracy: 0.9882\n",
            "Test Accuracy: 0.9900\n",
            "              precision    recall  f1-score   support\n",
            "\n",
            "       white      0.992     0.995     0.993       739\n",
            "         red      0.985     0.977     0.981       261\n",
            "\n",
            "    accuracy                          0.990      1000\n",
            "   macro avg      0.988     0.986     0.987      1000\n",
            "weighted avg      0.990     0.990     0.990      1000\n",
            "\n"
          ]
        }
      ]
    }
  ]
}